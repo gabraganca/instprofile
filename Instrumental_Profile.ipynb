{
 "metadata": {
  "name": "",
  "signature": "sha256:c28627e98348304bb15c75f39823832bd2a32abc670c13b640cd2b219d3b7e64"
 },
 "nbformat": 3,
 "nbformat_minor": 0,
 "worksheets": [
  {
   "cells": [
    {
     "cell_type": "heading",
     "level": 1,
     "metadata": {},
     "source": [
      "    Intrumental profile"
     ]
    },
    {
     "cell_type": "markdown",
     "metadata": {},
     "source": [
      "When one observes the spectrum of a source of light, the x-axis of the spectrum is in pixels. To convert this to wavelengths, it is  used a spectrum of a well know source of light, e.g., the light of a lamp of ThAr. The spectrum of the lamp has known emission lines, thus it is possible to convert from pixel to wavelngth.\n",
      "\n",
      "From theory, the emission lines of the lamp spectrum should be infinitely narrow. Unfortunately, this does not happens because of the optics of the instrument, which broadens the spectrum. When studying spectral lines of unknown sources, this broadeing effect has to be considered.\n",
      "\n",
      "Here, I will try to obtain the instrumental profile automatically."
     ]
    },
    {
     "cell_type": "code",
     "collapsed": false,
     "input": [],
     "language": "python",
     "metadata": {},
     "outputs": []
    }
   ],
   "metadata": {}
  }
 ]
}